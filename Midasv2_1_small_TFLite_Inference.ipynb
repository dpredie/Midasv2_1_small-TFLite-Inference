{
  "nbformat": 4,
  "nbformat_minor": 0,
  "metadata": {
    "colab": {
      "name": "Midasv2_1_small-TFLite-Inference",
      "provenance": [],
      "collapsed_sections": [],
      "authorship_tag": "ABX9TyPD60b36UX7H5z/SXGXkypJ",
      "include_colab_link": true
    },
    "kernelspec": {
      "name": "python3",
      "display_name": "Python 3"
    },
    "language_info": {
      "name": "python"
    },
    "accelerator": "GPU"
  },
  "cells": [
    {
      "cell_type": "markdown",
      "metadata": {
        "id": "view-in-github",
        "colab_type": "text"
      },
      "source": [
        "<a href=\"https://colab.research.google.com/github/dpredie/Midasv2_1_small-TFLite-Inference/blob/main/Midasv2_1_small_TFLite_Inference.ipynb\" target=\"_parent\"><img src=\"https://colab.research.google.com/assets/colab-badge.svg\" alt=\"Open In Colab\"/></a>"
      ]
    },
    {
      "cell_type": "markdown",
      "metadata": {
        "id": "xjILaIQAC_XA"
      },
      "source": [
        "## 1. Create Folders and Clone Git\n"
      ]
    },
    {
      "cell_type": "code",
      "metadata": {
        "id": "khz1bWUKZ0bb"
      },
      "source": [
        "#code section 1\n",
        "!mkdir -p inputs\n",
        "!mkdir -p results\n",
        "\n",
        "!git clone https://github.com/dpredie/Midasv2_1_small-TFLite-Inference.git"
      ],
      "execution_count": null,
      "outputs": []
    },
    {
      "cell_type": "markdown",
      "metadata": {
        "id": "SS6NKNM7DJE4"
      },
      "source": [
        "**1.1 Upload your mp4 to /content/inputs**"
      ]
    },
    {
      "cell_type": "markdown",
      "metadata": {
        "id": "60ftO-MDDcfm"
      },
      "source": [
        "## 2. Install dependencies"
      ]
    },
    {
      "cell_type": "code",
      "metadata": {
        "id": "0gU93BgxaYFP"
      },
      "source": [
        "!pip install numpy opencv-python tflite tensorflow\n",
        "#!pip install pafy youtube-dl"
      ],
      "execution_count": null,
      "outputs": []
    },
    {
      "cell_type": "code",
      "metadata": {
        "colab": {
          "base_uri": "https://localhost:8080/"
        },
        "id": "LMB-NvhFa6z9",
        "outputId": "715dc346-edca-4eaf-f21b-59cd0a18e034"
      },
      "source": [
        "%cd /content/Midasv2_1_small-TFLite-Inference/models/\n",
        "# midas tflite from https://tfhub.dev/intel/lite-model/midas/v2_1_small/1/lite/1\n",
        "!gdown https://drive.google.com/host/1rgae1ZB4eDnYDpp7qu3au8qbuhiel-Rw/midasModel.TFLite\n",
        "%cd /content/Midasv2_1_small-TFLite-Inference/\n",
        "\n",
        "\n"
      ],
      "execution_count": null,
      "outputs": [
        {
          "output_type": "stream",
          "text": [
            "/content/Midasv2_1_small-TFLite-Inference/models\n",
            "/usr/local/lib/python2.7/dist-packages/gdown/parse_url.py:31: UserWarning: You specified Google Drive Link but it is not the correct link to download the file. Maybe you should try: https://drive.google.com/uc?id=None\n",
            "  .format(url='https://drive.google.com/uc?id={}'.format(file_id))\n",
            "Downloading...\n",
            "From: https://drive.google.com/host/1rgae1ZB4eDnYDpp7qu3au8qbuhiel-Rw/midasModel.TFLite\n",
            "To: /content/Midasv2_1_small-TFLite-Inference/models/midasModel.TFLite\n",
            "100% 88.4k/88.4k [00:00<00:00, 26.0MB/s]\n"
          ],
          "name": "stdout"
        }
      ]
    },
    {
      "cell_type": "markdown",
      "metadata": {
        "id": "E7FpQwffDrbK"
      },
      "source": [
        "## 3. Run Depth Estimation\n",
        "**copy path of input file** \n",
        "\n",
        "**define output file and fps**"
      ]
    },
    {
      "cell_type": "code",
      "metadata": {
        "id": "8Vd3TcH2cMRn"
      },
      "source": [
        "!python videoFileDepthEstimation.py --input_file /content/inputs/input.mp4 --output_file /content/results/out.mp4 --fps 24\n"
      ],
      "execution_count": null,
      "outputs": []
    }
  ]
}