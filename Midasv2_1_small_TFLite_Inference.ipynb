{
  "nbformat": 4,
  "nbformat_minor": 0,
  "metadata": {
    "colab": {
      "name": "Midasv2_1_small-TFLite-Inference",
      "provenance": [],
      "collapsed_sections": [],
      "authorship_tag": "ABX9TyMGPWKe1v6XS1vlSMTL8+Iu",
      "include_colab_link": true
    },
    "kernelspec": {
      "name": "python3",
      "display_name": "Python 3"
    },
    "language_info": {
      "name": "python"
    },
    "accelerator": "GPU"
  },
  "cells": [
    {
      "cell_type": "markdown",
      "metadata": {
        "id": "view-in-github",
        "colab_type": "text"
      },
      "source": [
        "<a href=\"https://colab.research.google.com/github/dpredie/Midasv2_1_small-TFLite-Inference/blob/main/Midasv2_1_small_TFLite_Inference.ipynb\" target=\"_parent\"><img src=\"https://colab.research.google.com/assets/colab-badge.svg\" alt=\"Open In Colab\"/></a>"
      ]
    },
    {
      "cell_type": "markdown",
      "metadata": {
        "id": "xjILaIQAC_XA"
      },
      "source": [
        "## 1. Run this Prep:\n",
        "Create Folders and Clone Git,\n",
        "Install dependencies, download TFLite Model"
      ]
    },
    {
      "cell_type": "code",
      "metadata": {
        "id": "khz1bWUKZ0bb"
      },
      "source": [
        "#code section 1\n",
        "!mkdir -p inputs\n",
        "!mkdir -p results\n",
        "\n",
        "!git clone https://github.com/dpredie/Midasv2_1_small-TFLite-Inference.git\n",
        "\n",
        "!pip install numpy opencv-python tflite tensorflow\n",
        "#!pip install pafy youtube-dl\n",
        "%cd /content/Midasv2_1_small-TFLite-Inference/models/\n",
        "# midas tflite from https://tfhub.dev/intel/lite-model/midas/v2_1_small/1/lite/1\n",
        "!gdown https://drive.google.com/host/1rgae1ZB4eDnYDpp7qu3au8qbuhiel-Rw/midasModel.TFLite\n",
        "%cd /content/Midasv2_1_small-TFLite-Inference/"
      ],
      "execution_count": null,
      "outputs": []
    },
    {
      "cell_type": "markdown",
      "metadata": {
        "id": "SS6NKNM7DJE4"
      },
      "source": [
        "**1.1 Upload your mp4 to /content/inputs**"
      ]
    },
    {
      "cell_type": "markdown",
      "metadata": {
        "id": "E7FpQwffDrbK"
      },
      "source": [
        "## 2. Run Depth Estimation\n",
        "**copy path of input file, paste under --input_file** \n",
        "\n",
        "**define output file and fps**"
      ]
    },
    {
      "cell_type": "code",
      "metadata": {
        "id": "8Vd3TcH2cMRn"
      },
      "source": [
        "!python videoFileDepthEstimation.py --input_file /content/inputs/input.mp4 --output_file /content/results/out.mp4 --fps 24 --out_opt 1\n"
      ],
      "execution_count": null,
      "outputs": []
    }
  ]
}